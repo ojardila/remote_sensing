{
 "cells": [
  {
   "cell_type": "markdown",
   "metadata": {},
   "source": [
    "# Clasificación de Cobertura del suelo"
   ]
  },
  {
   "cell_type": "code",
   "execution_count": 8,
   "metadata": {},
   "outputs": [],
   "source": [
    "import numpy as np\n",
    "import matplotlib.pyplot as plt\n",
    "from sklearn.ensemble import RandomForestClassifier\n",
    "from sklearn import svm\n",
    "import pandas as pd\n",
    "import rasterio\n",
    "from sklearn.model_selection import train_test_split\n",
    "from rasterio.plot import show_hist, show\n",
    "import fiona\n",
    "from rasterio.tools.mask import mask\n",
    "from pandas.util.testing import assert_frame_equal\n",
    "from rasterio import Affine\n",
    "import geopandas as gpd"
   ]
  },
  {
   "cell_type": "markdown",
   "metadata": {},
   "source": [
    "Cargando imágen principal y módelo de elevación digital\n"
   ]
  },
  {
   "cell_type": "code",
   "execution_count": 13,
   "metadata": {},
   "outputs": [
    {
     "name": "stdout",
     "output_type": "stream",
     "text": [
      "           col   row\n",
      "0         3431     0\n",
      "1         3430     1\n",
      "2         3431     1\n",
      "3         3432     1\n",
      "4         3428     2\n",
      "5         3429     2\n",
      "6         3430     2\n",
      "7         3431     2\n",
      "8         3432     2\n",
      "9         3427     3\n",
      "10        3428     3\n",
      "11        3429     3\n",
      "12        3430     3\n",
      "13        3431     3\n",
      "14        3432     3\n",
      "15        3433     3\n",
      "16        3425     4\n",
      "17        3426     4\n",
      "18        3427     4\n",
      "19        3428     4\n",
      "20        3429     4\n",
      "21        3430     4\n",
      "22        3431     4\n",
      "23        3432     4\n",
      "24        3433     4\n",
      "25        3434     4\n",
      "26        3424     5\n",
      "27        3425     5\n",
      "28        3426     5\n",
      "29        3427     5\n",
      "...        ...   ...\n",
      "14413296  4098  4395\n",
      "14413297  4099  4395\n",
      "14413298  4100  4395\n",
      "14413299  4101  4395\n",
      "14413300  4102  4395\n",
      "14413301  4103  4395\n",
      "14413302  4104  4395\n",
      "14413303  4105  4395\n",
      "14413304  4106  4395\n",
      "14413305  4107  4395\n",
      "14413306  4108  4395\n",
      "14413307  4109  4395\n",
      "14413308  4110  4395\n",
      "14413309  4111  4395\n",
      "14413310  4112  4395\n",
      "14413311  4113  4395\n",
      "14413312  4114  4395\n",
      "14413313  4115  4395\n",
      "14413314  4116  4395\n",
      "14413315  4117  4395\n",
      "14413316  4118  4395\n",
      "14413317  4119  4395\n",
      "14413318  4120  4395\n",
      "14413319  4121  4395\n",
      "14413320  4122  4395\n",
      "14413321  4123  4395\n",
      "14413322  4124  4395\n",
      "14413323  4125  4395\n",
      "14413324  4126  4395\n",
      "14413325  4127  4395\n",
      "\n",
      "[14413326 rows x 2 columns]\n",
      "[   0    1    1 ... 4395 4395 4395]\n",
      "[3431 3430 3431 ... 4125 4126 4127]\n"
     ]
    }
   ],
   "source": [
    "base_raster = rasterio.open('/Users/oscar/Code/Maestria/perc_remota/taller_3/images/dos-reflectance.tif')\n",
    "base_shapefile = '/Users/oscar/Code/Maestria/perc_remota/taller_2/datos_de_salida/Reflectancias/train/socorro.shp'\n",
    "\n",
    "with fiona.open(base_shapefile, \"r\") as shapefile:\n",
    "    geoms = [feature[\"geometry\"] for feature in shapefile] \n",
    "out_image, out_transform = mask(base_raster, geoms, crop=True)\n",
    "\n",
    "out_image, out_transform = mask(base_raster, geoms, crop=True)\n",
    "out_meta = base_raster.meta.copy()\n",
    "out_meta.update({\"driver\": \"GTiff\",\n",
    "  \"height\": out_image.shape[1],\n",
    "  \"width\": out_image.shape[2],\n",
    "  \"transform\": out_transform})\n",
    "no_data=base_raster.nodata\n",
    "data = out_image.data[0]\n",
    "row, col = np.where(data >= no_data)\n",
    "dataset = gpd.GeoDataFrame({'col':col,'row':row})\n"
   ]
  },
  {
   "cell_type": "markdown",
   "metadata": {},
   "source": [
    "Funciones necesarias para leer los polígonos e imágen ajustada al formato necesario para ser procesada por el algoritmo de clasificación."
   ]
  },
  {
   "cell_type": "code",
   "execution_count": 168,
   "metadata": {},
   "outputs": [],
   "source": [
    "def read_train_data(shape, class_id):\n",
    "  print(base_raster)\n",
    "  raster  = base_raster\n",
    "  \n",
    "  with fiona.open(shape, \"r\") as shapefile:\n",
    "    geoms = [feature[\"geometry\"] for feature in shapefile]  \n",
    "  out_image, out_transform = mask(raster, geoms, crop=True)\n",
    "  out_meta = raster.meta.copy()\n",
    "  out_meta.update({\"driver\": \"GTiff\",\n",
    "    \"height\": out_image.shape[1],\n",
    "    \"width\": out_image.shape[2],\n",
    "    \"transform\": out_transform})\n",
    "\n",
    "  no_data=raster.nodata\n",
    "  out_image2, out_transform2 = mask(dem_raster, geoms, crop=True)\n",
    "  rows = out_image2[0].shape[0] if (out_image2[0].shape[0] < out_image[0].shape[0]) else out_image[0].shape[0]\n",
    "  cols = out_image2[0].shape[1] if (out_image2[0].shape[1] < out_image[0].shape[1]) else out_image[0].shape[1]\n",
    "  \n",
    "  out_image=out_image[:,:rows,:cols]\n",
    "  out_image2=out_image2[:,:rows,:cols]\n",
    "    \n",
    "  data = out_image.data[0]\n",
    "  row, col = np.where(data >= no_data)\n",
    "  d = gpd.GeoDataFrame({'col':col,'row':row})\n",
    "  d['red']  = out_image.data[0].flatten()\n",
    "  d['green']  = out_image.data[1].flatten()\n",
    "  d['blue']  = out_image.data[2].flatten()\n",
    "  d['nir']  = out_image.data[3].flatten()\n",
    "  d['ndvi'] = d.apply(lambda row: ((row.nir - row.red)/(row.nir + row.red)), axis=1)\n",
    "  d['elevation']  = out_image2.data[0].flatten()\n",
    "  d['class']  = int(class_id)\n",
    "  d = d[d['red'] != no_data]\n",
    "  d['ndvi'] =  d['ndvi'] * 100\n",
    "  filename = '/Users/oscar/Code/Maestria/perc_remota/taller_3/datasets/%s.csv' % (class_id)\n",
    "  d.to_csv(filename, sep=',')\n",
    "  return d\n",
    "    "
   ]
  },
  {
   "cell_type": "markdown",
   "metadata": {},
   "source": [
    "Leyendo polígonos de entrenamiento.\n"
   ]
  },
  {
   "cell_type": "code",
   "execution_count": 187,
   "metadata": {},
   "outputs": [
    {
     "name": "stdout",
     "output_type": "stream",
     "text": [
      "<open RasterReader name='/Users/oscar/Code/Maestria/perc_remota/taller_2/datos_de_salida/Reflectancias/toasocorro.tif' mode='r'>\n"
     ]
    }
   ],
   "source": [
    "agua_data = read_train_data('/Users/oscar/Code/Maestria/perc_remota/taller_3/images/train/agua.shp', 1)\n",
    "arbustal_abierto_data = read_train_data('/Users/oscar/Code/Maestria/perc_remota/taller_3/images/train/arbustal-abierto.shp', 2)\n",
    "cafe_data = read_train_data('/Users/oscar/Code/Maestria/perc_remota/taller_3/images/train/cafe.shp', 3)\n",
    "mosaico1_data = read_train_data('/Users/oscar/Code/Maestria/perc_remota/taller_3/images/train/mosaico-cultivos-pasto-espacios-naturales.shp', 4)\n",
    "mosaico2_data = read_train_data('/Users/oscar/Code/Maestria/perc_remota/taller_3/images/train/mosaico-pastos-cultivos.shp', 5)\n",
    "urbano_data = read_train_data('/Users/oscar/Code/Maestria/perc_remota/taller_3/images/train/urban.shp', 6)\n",
    "pastos_limpios_data = read_train_data('/Users/oscar/Code/Maestria/perc_remota/taller_3/images/train/pastos-limpios.shp', 7)\n"
   ]
  }
 ],
 "metadata": {
  "kernelspec": {
   "display_name": "Python 3",
   "language": "python",
   "name": "python3"
  },
  "language_info": {
   "codemirror_mode": {
    "name": "ipython",
    "version": 3
   },
   "file_extension": ".py",
   "mimetype": "text/x-python",
   "name": "python",
   "nbconvert_exporter": "python",
   "pygments_lexer": "ipython3",
   "version": "3.6.4"
  }
 },
 "nbformat": 4,
 "nbformat_minor": 2
}
